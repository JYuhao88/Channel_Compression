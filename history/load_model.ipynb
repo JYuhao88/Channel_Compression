{
 "cells": [
  {
   "cell_type": "code",
   "execution_count": 1,
   "id": "opened-cigarette",
   "metadata": {},
   "outputs": [],
   "source": [
    "#!/usr/bin/env python3\n",
    " \n",
    "import numpy as np\n",
    "import torch.nn as nn\n",
    "import torch\n",
    "import torch.nn.functional as F\n",
    "from torch.utils.data import Dataset\n",
    "from collections import OrderedDict\n",
    "from modelDesign import *"
   ]
  },
  {
   "cell_type": "code",
   "execution_count": 2,
   "id": "fleet-reader",
   "metadata": {},
   "outputs": [],
   "source": [
    "model = AutoEncoder(480)"
   ]
  },
  {
   "cell_type": "code",
   "execution_count": 3,
   "id": "lesser-karma",
   "metadata": {},
   "outputs": [
    {
     "data": {
      "text/plain": [
       "<All keys matched successfully>"
      ]
     },
     "execution_count": 3,
     "metadata": {},
     "output_type": "execute_result"
    }
   ],
   "source": [
    "not_load = ['fc.weight', 'fc.bias']\n",
    "save_encoder_model = torch.load('./modelSubmit/encoder.pth.tar')\n",
    "model_encoder_dict = model.encoder.state_dict()\n",
    "encoder_load_list = list(set(model_encoder_dict.keys()).difference(set(not_load)))\n",
    "state_encoder_dict = {k:v for k,v in dict(save_encoder_model['state_dict']).items() if k in encoder_load_list}\n",
    "model_encoder_dict.update(state_encoder_dict)\n",
    "model.encoder.load_state_dict(model_encoder_dict)\n",
    "\n",
    "save_decoder_model = torch.load('./modelSubmit/decoder.pth.tar')\n",
    "model_decoder_dict = model.decoder.state_dict()\n",
    "decoder_load_list = list(set(model_decoder_dict.keys()).difference(set(not_load)))\n",
    "state_decoder_dict = {k:v for k,v in dict(save_decoder_model['state_dict']).items() if k in encoder_load_list}\n",
    "model_decoder_dict.update(state_decoder_dict)\n",
    "model.decoder.load_state_dict(model_decoder_dict)\n",
    "\n",
    "# model.encoder.load_state_dict(torch.load('./modelSubmit/' + '/encoder.pth.tar')['state_dict'])\n",
    "# model.decoder.load_state_dict(torch.load('./modelSubmit/' + '/decoder.pth.tar')['state_dict'])"
   ]
  },
  {
   "cell_type": "code",
   "execution_count": 4,
   "id": "contrary-friday",
   "metadata": {},
   "outputs": [],
   "source": [
    "# encoder_load_list\n",
    "# state_encoder_dict = {k for k in save_encoder_model['state_dict'] if k in encoder_load_list}\n",
    "# state_encoder_dict\n",
    "# for k,v in save_encoder_model.items():\n",
    "#     print(k, v)\n",
    "\n",
    "# state_encoder_dict = {k:v for k,v in dict(save_encoder_model['state_dict']).items()}\n",
    "# state_encoder_dict"
   ]
  },
  {
   "cell_type": "code",
   "execution_count": 5,
   "id": "maritime-shade",
   "metadata": {},
   "outputs": [
    {
     "data": {
      "text/plain": [
       "Parameter containing:\n",
       "tensor([[-0.0214, -0.0334,  0.0300,  ...,  0.0053,  0.0278,  0.0063],\n",
       "        [ 0.0109, -0.0289, -0.0113,  ..., -0.0078,  0.0123,  0.0249],\n",
       "        [ 0.0263, -0.0058,  0.0236,  ...,  0.0226,  0.0309, -0.0067],\n",
       "        ...,\n",
       "        [ 0.0340,  0.0151, -0.0273,  ..., -0.0318, -0.0312, -0.0239],\n",
       "        [ 0.0084,  0.0125,  0.0290,  ...,  0.0011, -0.0243,  0.0322],\n",
       "        [-0.0100, -0.0025, -0.0137,  ..., -0.0205,  0.0276,  0.0293]],\n",
       "       requires_grad=True)"
      ]
     },
     "execution_count": 5,
     "metadata": {},
     "output_type": "execute_result"
    }
   ],
   "source": [
    "# dict(save_encoder_model['state_dict'])\n",
    "model.encoder.fc.weight\n",
    "# model.encoder.convban.conv3x3_bn.conv.weight\n"
   ]
  },
  {
   "cell_type": "code",
   "execution_count": null,
   "id": "trying-drawing",
   "metadata": {},
   "outputs": [],
   "source": []
  }
 ],
 "metadata": {
  "kernelspec": {
   "display_name": "Python 3",
   "language": "python",
   "name": "python3"
  },
  "language_info": {
   "codemirror_mode": {
    "name": "ipython",
    "version": 3
   },
   "file_extension": ".py",
   "mimetype": "text/x-python",
   "name": "python",
   "nbconvert_exporter": "python",
   "pygments_lexer": "ipython3",
   "version": "3.6.12"
  }
 },
 "nbformat": 4,
 "nbformat_minor": 5
}
